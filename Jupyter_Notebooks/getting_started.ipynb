{
 "cells": [
  {
   "cell_type": "code",
   "execution_count": 1,
   "metadata": {},
   "outputs": [],
   "source": [
    "import cv2\n",
    "import depthai as dai"
   ]
  },
  {
   "cell_type": "markdown",
   "metadata": {},
   "source": [
    "## Pipeline erstellen\n",
    "Um mit depthai zu arbeiten sind Pipelines notwendig. Mit dai.Pipeline() wird eine Pipeline erstellt in der wir verschiedene Tätigkeiten druchführen können. In der Pipeline können die implementierten Nodes verknüpft werden und komplexe Workflows auf der Kamera abzubilden. "
   ]
  },
  {
   "cell_type": "code",
   "execution_count": 2,
   "metadata": {},
   "outputs": [],
   "source": [
    "pipeline = dai.Pipeline()"
   ]
  },
  {
   "cell_type": "markdown",
   "metadata": {},
   "source": [
    "## Nodes hinzufügen\n",
    "In diesem einfachen Beispiel erstellen wir eine Farbkamera Node in dem wir eine Variable kreieren und pipeline.create() mit dem Argument dai.node.ColorCamera aufrufen."
   ]
  },
  {
   "cell_type": "code",
   "execution_count": 3,
   "metadata": {},
   "outputs": [],
   "source": [
    "cam = pipeline.create(dai.node.ColorCamera)"
   ]
  },
  {
   "cell_type": "markdown",
   "metadata": {},
   "source": [
    "Im nächsten Schritt wollen wir eine Node für den Outputstream in der Pipeline erzeugen, damit wir die Daten von der Kamera auf unseren Host rechner bekommen und diese weiterverarbeiten können. Mit der Funktion pipeline.createXLinkOut() kann eine Node erstellt werden die Daten zur Host-Maschine liefert."
   ]
  },
  {
   "cell_type": "code",
   "execution_count": 4,
   "metadata": {},
   "outputs": [],
   "source": [
    "cam_out = pipeline.createXLinkOut()"
   ]
  },
  {
   "cell_type": "markdown",
   "metadata": {},
   "source": [
    "Wir geben dem Outputstream mit cam_out.setStreamName(\"color\") einem Namen um diesen in einen späteren Punkt leichter zu finden."
   ]
  },
  {
   "cell_type": "code",
   "execution_count": 5,
   "metadata": {},
   "outputs": [],
   "source": [
    "cam_out.setStreamName(\"color\")"
   ]
  },
  {
   "cell_type": "markdown",
   "metadata": {},
   "source": [
    "## Verknüpfen der Nodes\n",
    "In den vorherigen Punkten haben wir Nodes für unsere Pipeline erstellt. Jetzt müssen wir diese verknüpfen. Bei der Farbkamera ist der Output in preview enthalten. Wir greifen auf den output der Farbkamera mit cam.preview zu und verknüpfen diesen mit .link() als Input für unseren Outputstream cam_out.input.\n",
    "\n",
    "Die verschiedenen Nodes haben unterschiedliche Arten wie man auf den Output zugreifen kann. Bei den Graustufenkameras könnte man mit .out auf den Output zugreifen. Deswegen ist ein Blick in die Dokumentation hilfreich."
   ]
  },
  {
   "cell_type": "code",
   "execution_count": 6,
   "metadata": {},
   "outputs": [],
   "source": [
    "cam.preview.link(cam_out.input)"
   ]
  },
  {
   "cell_type": "markdown",
   "metadata": {},
   "source": [
    "## Pipline laufen lassen\n",
    "Im letzen Schritt möchten wir die Pipeline laufen lassen. In diesem Beispiel möchten wir mit unserer Pipeline die Farbkamera auslesen. Mit dem Code dai.Device(pipeline) laden wir unsere Pipeline auf die Kamera, damit diese die Berechnungen durchführen kann.\n",
    "\n",
    "Wir ertstellen einen Output Queue in der wir den Output der Pipeline entgegenehmen. Mit device.getOutputQueue(name=\"color\") können wir auf den vorher definierten Outputstream \"color\" zugreifen.\n",
    "\n",
    "Im letzten Schritt erstellen wir eine Endlosschleife in der wir die Frames von der Outputqueue mit cam_queue.get() auslesen und in einen OpenCV Frame mit .getCvFrame() umwandeln. Mit cv2.imshow() können die Frames dann auf der Hostmaschinde dargestellt werden."
   ]
  },
  {
   "cell_type": "code",
   "execution_count": 7,
   "metadata": {},
   "outputs": [
    {
     "ename": "",
     "evalue": "",
     "output_type": "error",
     "traceback": [
      "\u001b[1;31mThe Kernel crashed while executing code in the the current cell or a previous cell. Please review the code in the cell(s) to identify a possible cause of the failure. Click <a href='https://aka.ms/vscodeJupyterKernelCrash'>here</a> for more info. View Jupyter <a href='command:jupyter.viewOutput'>log</a> for further details."
     ]
    }
   ],
   "source": [
    "with dai.Device(pipeline) as device:\n",
    "    cam_queue = device.getOutputQueue(name=\"color\", maxSize=1)\n",
    "\n",
    "    while True:\n",
    "        color_frame = cam_queue.get().getCvFrame()\n",
    "        cv2.imshow(\"RGB\", color_frame)\n",
    "\n",
    "        key = cv2.waitKey(1)\n",
    "        if key == ord('q'):\n",
    "            break"
   ]
  }
 ],
 "metadata": {
  "kernelspec": {
   "display_name": "Python 3.8.10 ('virt_oak': venv)",
   "language": "python",
   "name": "python3"
  },
  "language_info": {
   "codemirror_mode": {
    "name": "ipython",
    "version": 3
   },
   "file_extension": ".py",
   "mimetype": "text/x-python",
   "name": "python",
   "nbconvert_exporter": "python",
   "pygments_lexer": "ipython3",
   "version": "3.8.10"
  },
  "orig_nbformat": 4,
  "vscode": {
   "interpreter": {
    "hash": "243f874a1232b21151c065a4d170d206e753bdf394db0cee2de6a61f0b5bba72"
   }
  }
 },
 "nbformat": 4,
 "nbformat_minor": 2
}
